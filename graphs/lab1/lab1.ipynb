{
 "cells": [
  {
   "cell_type": "code",
   "execution_count": null,
   "metadata": {},
   "outputs": [],
   "source": [
    "import networkx as nx\n",
    "import pandas as pd\n",
    "from networkx.algorithms import bipartite\n",
    "\n",
    "\n",
    "employees = set([\n",
    "    'Pablo',\n",
    "    'Lee',\n",
    "    'Georgia',\n",
    "    'Vincent',\n",
    "    'Andy',\n",
    "    'Frida',\n",
    "    'Joan',\n",
    "    'Claude'\n",
    "])\n",
    "\n",
    "\n",
    "movies = set([\n",
    "    'The Shawshank Redemption',\n",
    "    'Forrest Gump',\n",
    "    'The Matrix',\n",
    "    'Anaconda',\n",
    "    'The Social Network',\n",
    "    'The Godfather',\n",
    "    'Monty Python and the Holy Grail',\n",
    "    'Snakes on a Plane',\n",
    "    'Kung Fu Panda',\n",
    "    'The Dark Knight',\n",
    "    'Mean Girls'\n",
    "])\n",
    "\n",
    "\n",
    "def plot_graph(G, weight_name=None):\n",
    "    import matplotlib.pyplot as plt\n",
    "\n",
    "    plt.figure()\n",
    "    pos = nx.spring_layout(G)\n",
    "\n",
    "    if weight_name:\n",
    "        labels = nx.get_edge_attributes(G, weight_name)\n",
    "        nx.draw_networkx_edge_labels(G, pos, edge_labels=labels)\n",
    "        nx.draw_networkx(G, pos)\n",
    "    else:\n",
    "        nx.draw_networkx(G, pos)"
   ]
  },
  {
   "cell_type": "code",
   "execution_count": null,
   "metadata": {},
   "outputs": [],
   "source": [
    "# 1ο ερώτημα.\n",
    "g1_df = pd.read_csv('Employee_Movie_Choices.txt', sep='\\t',\n",
    "                    header=None, skiprows=1, names=['Employees', 'Movies'])\n",
    "g1 = nx.from_pandas_edgelist(g1_df, 'Employees', 'Movies')\n",
    "plot_graph(g1)"
   ]
  },
  {
   "cell_type": "code",
   "execution_count": null,
   "metadata": {},
   "outputs": [],
   "source": [
    "# 2ο ερώτημα.\n",
    "g2 = g1\n",
    "g2.add_nodes_from(employees, bipartite=0, type='employee')\n",
    "g2.add_nodes_from(movies, bipartite=1, type='movie')\n",
    "plot_graph(g2)"
   ]
  },
  {
   "cell_type": "code",
   "execution_count": null,
   "metadata": {},
   "outputs": [],
   "source": [
    "# 3o ερώτημα.\n",
    "g3 = g2\n",
    "weighted_projection = bipartite.weighted_projected_graph(g3, employees)\n",
    "plot_graph(weighted_projection, 'weight')"
   ]
  },
  {
   "cell_type": "code",
   "execution_count": null,
   "metadata": {},
   "outputs": [],
   "source": [
    "g4 = pd.DataFrame(weighted_projection.edges(data=True),\n",
    "                  columns=['Emp1', 'Emp2', 'movies_in_common'])\n",
    "g4['movies_in_common'] = g4['movies_in_common'].map(lambda x: x['weight'])\n",
    "g4_duplicate = g4.copy()\n",
    "g4_duplicate.rename(columns={'Emp1': 'Emp2', 'Emp2': 'Emp1'}, inplace=True)\n",
    "g4_common_movies = pd.concat([g4, g4_duplicate], ignore_index=True)\n",
    "g4_employee_rel = pd.read_csv('Employee_Relationships.txt', sep='\\t', header=None, names=[\n",
    "                              'Emp1', 'Emp2', 'Relationship'])\n",
    "g4_merged = pd.merge(g4_employee_rel, g4_common_movies, how='left')\n",
    "g4_merged['movies_in_common'].fillna(value=0, inplace=True)\n",
    "correlation_score = g4_merged['movies_in_common'].corr(\n",
    "    g4_merged['Relationship'])\n",
    "\n",
    "print(correlation_score)"
   ]
  }
 ],
 "metadata": {
  "kernelspec": {
   "display_name": "Python 3",
   "language": "python",
   "name": "python3"
  },
  "language_info": {
   "codemirror_mode": {
    "name": "ipython",
    "version": 3
   },
   "file_extension": ".py",
   "mimetype": "text/x-python",
   "name": "python",
   "nbconvert_exporter": "python",
   "pygments_lexer": "ipython3",
   "version": "3.11.5"
  }
 },
 "nbformat": 4,
 "nbformat_minor": 2
}
